{
 "cells": [
  {
   "cell_type": "code",
   "execution_count": null,
   "id": "6323b4bf",
   "metadata": {},
   "outputs": [
    {
     "name": "stderr",
     "output_type": "stream",
     "text": [
      "[nltk_data] Downloading package punkt to\n",
      "[nltk_data]     C:\\Users\\Admin\\AppData\\Roaming\\nltk_data...\n",
      "[nltk_data]   Package punkt is already up-to-date!\n",
      "[nltk_data] Downloading package wordnet to\n",
      "[nltk_data]     C:\\Users\\Admin\\AppData\\Roaming\\nltk_data...\n"
     ]
    },
    {
     "name": "stdout",
     "output_type": "stream",
     "text": [
      "GO! BOT IS RUNNING\n"
     ]
    },
    {
     "name": "stdin",
     "output_type": "stream",
     "text": [
      " hii\n"
     ]
    },
    {
     "name": "stdout",
     "output_type": "stream",
     "text": [
      "1/1 [==============================] - 0s 379ms/step\n",
      "hey, how are you?\n"
     ]
    },
    {
     "name": "stdin",
     "output_type": "stream",
     "text": [
      " i have fever\n"
     ]
    },
    {
     "name": "stdout",
     "output_type": "stream",
     "text": [
      "1/1 [==============================] - 0s 22ms/step\n",
      "Fever is a common medical condition characterized by an increase in body temperature above the normal range of 36.5-37.5Â°C.\n",
      "The symptoms of fever may include a rise in body temperature, sweating, shivering, headache, muscle aches, and fatigue.\n",
      "Fever is usually caused by an infection, but it can also be a symptom of other medical conditions, such as inflammatory diseases, autoimmune disorders, or cancers.\n",
      "It is important to monitor fever and seek medical attention if it persists for more than a few days or if it is accompanied by other symptoms, such as difficulty breathing, chest pain, confusion, or seizures.\n"
     ]
    },
    {
     "name": "stdin",
     "output_type": "stream",
     "text": [
      " bye\n"
     ]
    },
    {
     "name": "stdout",
     "output_type": "stream",
     "text": [
      "1/1 [==============================] - 0s 24ms/step\n",
      "goodbye\n"
     ]
    }
   ],
   "source": [
    "import nltk\n",
    "import random\n",
    "import numpy as np\n",
    "import json\n",
    "import pickle\n",
    "from nltk.stem import WordNetLemmatizer\n",
    "from tensorflow.keras.models import load_model\n",
    "lemmatizer=WordNetLemmatizer()\n",
    "\n",
    "nltk.download('punkt')\n",
    "nltk.download('wordnet')\n",
    "\n",
    "with open('intents.json') as json_file:\n",
    "    intents = json.load(json_file)\n",
    "\n",
    "words=pickle.load(open('words.pkl','rb'))\n",
    "classes=pickle.load(open('classes.pkl','rb'))\n",
    "model=load_model('chatbotmodel1.h5')\n",
    "\n",
    "def clean_up_sentence(sentence):\n",
    "    sentence_words=nltk.word_tokenize(sentence)\n",
    "    sentence_words=[lemmatizer.lemmatize(word) for word in sentence_words]\n",
    "    return sentence_words\n",
    "\n",
    "def bag_of_words(sentence):\n",
    "    sentence_words=clean_up_sentence(sentence)\n",
    "    bag=[0]*len(words)\n",
    "    for w in sentence_words:\n",
    "        for i,word in enumerate(words):\n",
    "            if word == w:\n",
    "                bag[i]=1\n",
    "    return np.array(bag)\n",
    "\n",
    "def predict_class(sentence):\n",
    "    bow=bag_of_words(sentence)\n",
    "    res=model.predict(np.array([bow]))[0]\n",
    "    ERROR_THRESHOLD=0.25\n",
    "    results=[[i,r] for i,r in enumerate(res) if r> ERROR_THRESHOLD]\n",
    "\n",
    "    results.sort(key=lambda x:x[1],reverse=True)\n",
    "    return_list=[]\n",
    "    for r in results:\n",
    "        return_list.append({'intent': classes[r[0]],'probability':str(r[1])})\n",
    "    return return_list\n",
    "\n",
    "def get_response(intents_list,intents_json):\n",
    "    tag=intents_list[0]['intent']\n",
    "    list_of_intents=intents_json['intents']\n",
    "    for i in list_of_intents:\n",
    "        if i['tag']==tag:\n",
    "            result=random.choice(i['responses'])\n",
    "            break\n",
    "    return result\n",
    "def chatbot_response(user_input):\n",
    "    ints = predict_class(user_input, model)\n",
    "    res = getResponse(ints, intents)\n",
    "    return res\n",
    "\n",
    "\n",
    "print(\"GO! BOT IS RUNNING\")\n",
    "\n",
    "while True:\n",
    "    message=input(\"\")\n",
    "    ints=predict_class(message)\n",
    "    res=get_response(ints,intents)\n",
    "    print(res)"
   ]
  },
  {
   "cell_type": "code",
   "execution_count": null,
   "id": "0bbdd3a0",
   "metadata": {},
   "outputs": [],
   "source": []
  },
  {
   "cell_type": "code",
   "execution_count": null,
   "id": "c1061956",
   "metadata": {},
   "outputs": [],
   "source": []
  }
 ],
 "metadata": {
  "kernelspec": {
   "display_name": "Python (tf_env)",
   "language": "python",
   "name": "tf_env"
  },
  "language_info": {
   "codemirror_mode": {
    "name": "ipython",
    "version": 3
   },
   "file_extension": ".py",
   "mimetype": "text/x-python",
   "name": "python",
   "nbconvert_exporter": "python",
   "pygments_lexer": "ipython3",
   "version": "3.8.18"
  }
 },
 "nbformat": 4,
 "nbformat_minor": 5
}
